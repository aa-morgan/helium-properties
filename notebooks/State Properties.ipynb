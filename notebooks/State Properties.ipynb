{
 "cells": [
  {
   "cell_type": "code",
   "execution_count": 1,
   "metadata": {},
   "outputs": [],
   "source": [
    "from helprop import *\n",
    "import pandas as pd"
   ]
  },
  {
   "cell_type": "code",
   "execution_count": 9,
   "metadata": {},
   "outputs": [
    {
     "data": {
      "text/html": [
       "<div>\n",
       "<style scoped>\n",
       "    .dataframe tbody tr th:only-of-type {\n",
       "        vertical-align: middle;\n",
       "    }\n",
       "\n",
       "    .dataframe tbody tr th {\n",
       "        vertical-align: top;\n",
       "    }\n",
       "\n",
       "    .dataframe thead th {\n",
       "        text-align: right;\n",
       "    }\n",
       "</style>\n",
       "<table border=\"1\" class=\"dataframe\">\n",
       "  <thead>\n",
       "    <tr style=\"text-align: right;\">\n",
       "      <th></th>\n",
       "      <th>value</th>\n",
       "      <th>units</th>\n",
       "    </tr>\n",
       "  </thead>\n",
       "  <tbody>\n",
       "    <tr>\n",
       "      <th>state ❘ $n, L, S, J, M_L$ ⟩</th>\n",
       "      <td>❘ 70 69 1 69 69 ⟩</td>\n",
       "      <td></td>\n",
       "    </tr>\n",
       "    <tr>\n",
       "      <th>energy</th>\n",
       "      <td>-671.304</td>\n",
       "      <td>GHz</td>\n",
       "    </tr>\n",
       "    <tr>\n",
       "      <th>radiative lifetime</th>\n",
       "      <td>154.754</td>\n",
       "      <td>ms</td>\n",
       "    </tr>\n",
       "    <tr>\n",
       "      <th>number of allowed transitions</th>\n",
       "      <td>2</td>\n",
       "      <td></td>\n",
       "    </tr>\n",
       "    <tr>\n",
       "      <th>hydrogenic polarizability [k=0]</th>\n",
       "      <td>15.1116</td>\n",
       "      <td>MHz/(V/cm)2</td>\n",
       "    </tr>\n",
       "  </tbody>\n",
       "</table>\n",
       "</div>"
      ],
      "text/plain": [
       "                                             value        units\n",
       "state ❘ $n, L, S, J, M_L$ ⟩      ❘ 70 69 1 69 69 ⟩             \n",
       "energy                                    -671.304          GHz\n",
       "radiative lifetime                         154.754           ms\n",
       "number of allowed transitions                    2             \n",
       "hydrogenic polarizability [k=0]            15.1116  MHz/(V/cm)2"
      ]
     },
     "execution_count": 9,
     "metadata": {},
     "output_type": "execute_result"
    }
   ],
   "source": [
    "state = State(n=70, L=69, S=1, M=69, basis_type='ML')\n",
    "\n",
    "units = [\n",
    "    '',\n",
    "    'GHz',\n",
    "    'ms',\n",
    "    '',\n",
    "    'MHz/(V/cm)2'\n",
    "    #'cm2/v'\n",
    "]\n",
    "labels = [\n",
    "    'state \\u2758 $n, L, S, J, M_L$ \\u27E9', \n",
    "    'energy',\n",
    "    'radiative lifetime',\n",
    "    'number of allowed transitions',\n",
    "    'hydrogenic polarizability [k=0]'\n",
    "]\n",
    "\n",
    "lifetime, allowed = radiative_lifetime_all(state, units=units[2])\n",
    "\n",
    "data = [\n",
    "    state, \n",
    "    energy(state, units=units[1]),\n",
    "    lifetime,\n",
    "    len(allowed),\n",
    "    hydrogenic_polarizability(state, k=0, units=units[4])\n",
    "]\n",
    "pd.DataFrame(np.array([data, units]).T, index=labels, columns=['value', 'units'])"
   ]
  },
  {
   "cell_type": "code",
   "execution_count": 11,
   "metadata": {},
   "outputs": [
    {
     "data": {
      "text/html": [
       "<div>\n",
       "<style scoped>\n",
       "    .dataframe tbody tr th:only-of-type {\n",
       "        vertical-align: middle;\n",
       "    }\n",
       "\n",
       "    .dataframe tbody tr th {\n",
       "        vertical-align: top;\n",
       "    }\n",
       "\n",
       "    .dataframe thead th {\n",
       "        text-align: right;\n",
       "    }\n",
       "</style>\n",
       "<table border=\"1\" class=\"dataframe\">\n",
       "  <thead>\n",
       "    <tr style=\"text-align: right;\">\n",
       "      <th></th>\n",
       "      <th>value</th>\n",
       "      <th>units</th>\n",
       "    </tr>\n",
       "  </thead>\n",
       "  <tbody>\n",
       "    <tr>\n",
       "      <th>state 1 ❘ $n, L, S, J, M_L$ ⟩</th>\n",
       "      <td>❘ 50 49 1 49 49 ⟩</td>\n",
       "      <td></td>\n",
       "    </tr>\n",
       "    <tr>\n",
       "      <th>state 2 ❘ $n, L, S, J, M_L$ ⟩</th>\n",
       "      <td>❘ 51 50 1 50 50 ⟩</td>\n",
       "      <td></td>\n",
       "    </tr>\n",
       "    <tr>\n",
       "      <th>transition energy</th>\n",
       "      <td>51.0924</td>\n",
       "      <td>GHz</td>\n",
       "    </tr>\n",
       "    <tr>\n",
       "      <th>transition dipole moment</th>\n",
       "      <td>4515.07</td>\n",
       "      <td>Debye</td>\n",
       "    </tr>\n",
       "    <tr>\n",
       "      <th>radiative lifetime</th>\n",
       "      <td>31.5981</td>\n",
       "      <td>ms</td>\n",
       "    </tr>\n",
       "    <tr>\n",
       "      <th>relative hydrogenic polarizability [k=0]</th>\n",
       "      <td>25.4445</td>\n",
       "      <td>Hz/(V/m)2</td>\n",
       "    </tr>\n",
       "  </tbody>\n",
       "</table>\n",
       "</div>"
      ],
      "text/plain": [
       "                                                      value      units\n",
       "state 1 ❘ $n, L, S, J, M_L$ ⟩             ❘ 50 49 1 49 49 ⟩           \n",
       "state 2 ❘ $n, L, S, J, M_L$ ⟩             ❘ 51 50 1 50 50 ⟩           \n",
       "transition energy                                   51.0924        GHz\n",
       "transition dipole moment                            4515.07      Debye\n",
       "radiative lifetime                                  31.5981         ms\n",
       "relative hydrogenic polarizability [k=0]            25.4445  Hz/(V/m)2"
      ]
     },
     "execution_count": 11,
     "metadata": {},
     "output_type": "execute_result"
    }
   ],
   "source": [
    "state_1 = State(n=50, L=49, S=1, M=49, basis_type='ML')\n",
    "state_2 = State(n=51, L=50, S=1, M=50, basis_type='ML')\n",
    "\n",
    "units = [\n",
    "    '',\n",
    "    '',\n",
    "    'GHz',\n",
    "    'Debye',\n",
    "    'ms',\n",
    "    'Hz/(V/m)2'\n",
    "]\n",
    "labels = [\n",
    "    'state 1 \\u2758 $n, L, S, J, M_L$ \\u27E9', \n",
    "    'state 2 \\u2758 $n, L, S, J, M_L$ \\u27E9', \n",
    "    'transition energy',\n",
    "    'transition dipole moment',\n",
    "    'radiative lifetime',\n",
    "    'relative hydrogenic polarizability [k=0]'\n",
    "]\n",
    "\n",
    "data = [\n",
    "    state_1,    \n",
    "    state_2, \n",
    "    transition_energy(state_1, state_2, units=units[2]),\n",
    "    transition_dipole_moment(state_1, state_2, units=units[3]),\n",
    "    radiative_lifetime(state_1, state_2, units=units[4]),\n",
    "    relative_hydrogenic_polarizability(state_1, state_2, k=0, units=units[5])\n",
    "]\n",
    "pd.DataFrame(np.array([data, units]).T, index=labels, columns=['value', 'units'])"
   ]
  },
  {
   "cell_type": "code",
   "execution_count": 12,
   "metadata": {
    "collapsed": true
   },
   "outputs": [],
   "source": [
    "%load_ext version_information"
   ]
  },
  {
   "cell_type": "code",
   "execution_count": 13,
   "metadata": {},
   "outputs": [
    {
     "data": {
      "application/json": {
       "Software versions": [
        {
         "module": "Python",
         "version": "3.6.1 64bit [GCC 4.2.1 Compatible Apple LLVM 6.0 (clang-600.0.57)]"
        },
        {
         "module": "IPython",
         "version": "5.3.0"
        },
        {
         "module": "OS",
         "version": "Darwin 17.4.0 x86_64 i386 64bit"
        },
        {
         "module": "scipy",
         "version": "1.0.0"
        },
        {
         "module": "numpy",
         "version": "1.14.3"
        },
        {
         "module": "sympy",
         "version": "1.0"
        },
        {
         "module": "numba",
         "version": "0.35.0"
        },
        {
         "module": "matplotlib",
         "version": "2.0.2"
        },
        {
         "module": "attr",
         "version": "17.4.0"
        },
        {
         "module": "tqdm",
         "version": "4.15.0"
        },
        {
         "module": "version_information",
         "version": "1.0.3"
        }
       ]
      },
      "text/html": [
       "<table><tr><th>Software</th><th>Version</th></tr><tr><td>Python</td><td>3.6.1 64bit [GCC 4.2.1 Compatible Apple LLVM 6.0 (clang-600.0.57)]</td></tr><tr><td>IPython</td><td>5.3.0</td></tr><tr><td>OS</td><td>Darwin 17.4.0 x86_64 i386 64bit</td></tr><tr><td>scipy</td><td>1.0.0</td></tr><tr><td>numpy</td><td>1.14.3</td></tr><tr><td>sympy</td><td>1.0</td></tr><tr><td>numba</td><td>0.35.0</td></tr><tr><td>matplotlib</td><td>2.0.2</td></tr><tr><td>attr</td><td>17.4.0</td></tr><tr><td>tqdm</td><td>4.15.0</td></tr><tr><td>version_information</td><td>1.0.3</td></tr><tr><td colspan='2'>Mon Jul 09 19:29:08 2018 BST</td></tr></table>"
      ],
      "text/latex": [
       "\\begin{tabular}{|l|l|}\\hline\n",
       "{\\bf Software} & {\\bf Version} \\\\ \\hline\\hline\n",
       "Python & 3.6.1 64bit [GCC 4.2.1 Compatible Apple LLVM 6.0 (clang-600.0.57)] \\\\ \\hline\n",
       "IPython & 5.3.0 \\\\ \\hline\n",
       "OS & Darwin 17.4.0 x86\\_64 i386 64bit \\\\ \\hline\n",
       "scipy & 1.0.0 \\\\ \\hline\n",
       "numpy & 1.14.3 \\\\ \\hline\n",
       "sympy & 1.0 \\\\ \\hline\n",
       "numba & 0.35.0 \\\\ \\hline\n",
       "matplotlib & 2.0.2 \\\\ \\hline\n",
       "attr & 17.4.0 \\\\ \\hline\n",
       "tqdm & 4.15.0 \\\\ \\hline\n",
       "version_information & 1.0.3 \\\\ \\hline\n",
       "\\hline \\multicolumn{2}{|l|}{Mon Jul 09 19:29:08 2018 BST} \\\\ \\hline\n",
       "\\end{tabular}\n"
      ],
      "text/plain": [
       "Software versions\n",
       "Python 3.6.1 64bit [GCC 4.2.1 Compatible Apple LLVM 6.0 (clang-600.0.57)]\n",
       "IPython 5.3.0\n",
       "OS Darwin 17.4.0 x86_64 i386 64bit\n",
       "scipy 1.0.0\n",
       "numpy 1.14.3\n",
       "sympy 1.0\n",
       "numba 0.35.0\n",
       "matplotlib 2.0.2\n",
       "attr 17.4.0\n",
       "tqdm 4.15.0\n",
       "version_information 1.0.3\n",
       "Mon Jul 09 19:29:08 2018 BST"
      ]
     },
     "execution_count": 13,
     "metadata": {},
     "output_type": "execute_result"
    }
   ],
   "source": [
    "%version_information scipy, numpy, sympy, numba, matplotlib, attr, tqdm ,version_information"
   ]
  },
  {
   "cell_type": "code",
   "execution_count": null,
   "metadata": {},
   "outputs": [],
   "source": []
  }
 ],
 "metadata": {
  "kernelspec": {
   "display_name": "Python 3",
   "language": "python",
   "name": "python3"
  },
  "language_info": {
   "codemirror_mode": {
    "name": "ipython",
    "version": 3
   },
   "file_extension": ".py",
   "mimetype": "text/x-python",
   "name": "python",
   "nbconvert_exporter": "python",
   "pygments_lexer": "ipython3",
   "version": "3.6.1"
  }
 },
 "nbformat": 4,
 "nbformat_minor": 2
}
