{
 "cells": [
  {
   "cell_type": "code",
   "execution_count": 1,
   "metadata": {},
   "outputs": [],
   "source": [
    "from helprop import *\n",
    "import pandas as pd"
   ]
  },
  {
   "cell_type": "code",
   "execution_count": 16,
   "metadata": {},
   "outputs": [
    {
     "data": {
      "text/html": [
       "<div>\n",
       "<style scoped>\n",
       "    .dataframe tbody tr th:only-of-type {\n",
       "        vertical-align: middle;\n",
       "    }\n",
       "\n",
       "    .dataframe tbody tr th {\n",
       "        vertical-align: top;\n",
       "    }\n",
       "\n",
       "    .dataframe thead th {\n",
       "        text-align: right;\n",
       "    }\n",
       "</style>\n",
       "<table border=\"1\" class=\"dataframe\">\n",
       "  <thead>\n",
       "    <tr style=\"text-align: right;\">\n",
       "      <th></th>\n",
       "      <th>value</th>\n",
       "    </tr>\n",
       "  </thead>\n",
       "  <tbody>\n",
       "    <tr>\n",
       "      <th>state ❘ $n, L, S, J, M_L$ ⟩</th>\n",
       "      <td>❘ 69 1 1 1 1 ⟩</td>\n",
       "    </tr>\n",
       "    <tr>\n",
       "      <th>energy (GHz)</th>\n",
       "      <td>-692.274</td>\n",
       "    </tr>\n",
       "    <tr>\n",
       "      <th>radiative lifetime (ms)</th>\n",
       "      <td>0.123599</td>\n",
       "    </tr>\n",
       "    <tr>\n",
       "      <th>number of allowed transitions</th>\n",
       "      <td>269</td>\n",
       "    </tr>\n",
       "  </tbody>\n",
       "</table>\n",
       "</div>"
      ],
      "text/plain": [
       "                                        value\n",
       "state ❘ $n, L, S, J, M_L$ ⟩    ❘ 69 1 1 1 1 ⟩\n",
       "energy (GHz)                         -692.274\n",
       "radiative lifetime (ms)              0.123599\n",
       "number of allowed transitions             269"
      ]
     },
     "execution_count": 16,
     "metadata": {},
     "output_type": "execute_result"
    }
   ],
   "source": [
    "state = State(n=69, L=1, S=1, ML=1)\n",
    "\n",
    "lifetime, allowed = radiative_lifetime_all(state, units='ms')\n",
    "d = {'value' : pd.Series([   \n",
    "        state, \n",
    "        energy(state, units='ghz'),\n",
    "        lifetime,\n",
    "        len(allowed)\n",
    "    ], index=[\n",
    "        'state \\u2758 $n, L, S, J, M_L$ \\u27E9', \n",
    "        'energy (GHz)',\n",
    "        'radiative lifetime (ms)',\n",
    "        'number of allowed transitions'\n",
    "    ])}\n",
    "\n",
    "pd.DataFrame(d)"
   ]
  },
  {
   "cell_type": "code",
   "execution_count": 4,
   "metadata": {},
   "outputs": [
    {
     "data": {
      "text/html": [
       "<div>\n",
       "<style scoped>\n",
       "    .dataframe tbody tr th:only-of-type {\n",
       "        vertical-align: middle;\n",
       "    }\n",
       "\n",
       "    .dataframe tbody tr th {\n",
       "        vertical-align: top;\n",
       "    }\n",
       "\n",
       "    .dataframe thead th {\n",
       "        text-align: right;\n",
       "    }\n",
       "</style>\n",
       "<table border=\"1\" class=\"dataframe\">\n",
       "  <thead>\n",
       "    <tr style=\"text-align: right;\">\n",
       "      <th></th>\n",
       "      <th>value</th>\n",
       "    </tr>\n",
       "  </thead>\n",
       "  <tbody>\n",
       "    <tr>\n",
       "      <th>state 1 ❘ $n, L, S, J, M_L$ ⟩</th>\n",
       "      <td>❘ 68 67 1 67 67 ⟩</td>\n",
       "    </tr>\n",
       "    <tr>\n",
       "      <th>state 2 ❘ $n, L, S, J, M_L$ ⟩</th>\n",
       "      <td>❘ 69 68 1 68 68 ⟩</td>\n",
       "    </tr>\n",
       "    <tr>\n",
       "      <th>transition energy (GHz)</th>\n",
       "      <td>20.4701</td>\n",
       "    </tr>\n",
       "    <tr>\n",
       "      <th>transition dipole moment (D)</th>\n",
       "      <td>8340.59</td>\n",
       "    </tr>\n",
       "    <tr>\n",
       "      <th>radiative lifetime (ms)</th>\n",
       "      <td>143.981</td>\n",
       "    </tr>\n",
       "  </tbody>\n",
       "</table>\n",
       "</div>"
      ],
      "text/plain": [
       "                                           value\n",
       "state 1 ❘ $n, L, S, J, M_L$ ⟩  ❘ 68 67 1 67 67 ⟩\n",
       "state 2 ❘ $n, L, S, J, M_L$ ⟩  ❘ 69 68 1 68 68 ⟩\n",
       "transition energy (GHz)                  20.4701\n",
       "transition dipole moment (D)             8340.59\n",
       "radiative lifetime (ms)                  143.981"
      ]
     },
     "execution_count": 4,
     "metadata": {},
     "output_type": "execute_result"
    }
   ],
   "source": [
    "state_1 = State(n=68, L=67, S=1, ML=67)\n",
    "state_2 = State(n=69, L=68, S=1, ML=68)\n",
    "\n",
    "d = {'value' : pd.Series([\n",
    "        state_1,    \n",
    "        state_2, \n",
    "        transition_energy(state_1, state_2, units='ghz'),\n",
    "        transition_dipole_moment(state_1, state_2, units='debye'),\n",
    "        radiative_lifetime(state_1, state_2, units='ms')\n",
    "    ], index=[\n",
    "        'state 1 \\u2758 $n, L, S, J, M_L$ \\u27E9', \n",
    "        'state 2 \\u2758 $n, L, S, J, M_L$ \\u27E9', \n",
    "        'transition energy (GHz)',\n",
    "        'transition dipole moment (D)',\n",
    "        'radiative lifetime (ms)'\n",
    "    ])}\n",
    "\n",
    "pd.DataFrame(d)"
   ]
  },
  {
   "cell_type": "code",
   "execution_count": null,
   "metadata": {
    "collapsed": true
   },
   "outputs": [],
   "source": []
  }
 ],
 "metadata": {
  "kernelspec": {
   "display_name": "Python 3",
   "language": "python",
   "name": "python3"
  },
  "language_info": {
   "codemirror_mode": {
    "name": "ipython",
    "version": 3
   },
   "file_extension": ".py",
   "mimetype": "text/x-python",
   "name": "python",
   "nbconvert_exporter": "python",
   "pygments_lexer": "ipython3",
   "version": "3.6.1"
  }
 },
 "nbformat": 4,
 "nbformat_minor": 2
}
