{
 "cells": [
  {
   "cell_type": "code",
   "execution_count": 1,
   "metadata": {},
   "outputs": [],
   "source": [
    "from helprop import *\n",
    "import pandas as pd"
   ]
  },
  {
   "cell_type": "code",
   "execution_count": 2,
   "metadata": {},
   "outputs": [
    {
     "data": {
      "text/html": [
       "<div>\n",
       "<style scoped>\n",
       "    .dataframe tbody tr th:only-of-type {\n",
       "        vertical-align: middle;\n",
       "    }\n",
       "\n",
       "    .dataframe tbody tr th {\n",
       "        vertical-align: top;\n",
       "    }\n",
       "\n",
       "    .dataframe thead th {\n",
       "        text-align: right;\n",
       "    }\n",
       "</style>\n",
       "<table border=\"1\" class=\"dataframe\">\n",
       "  <thead>\n",
       "    <tr style=\"text-align: right;\">\n",
       "      <th></th>\n",
       "      <th>value</th>\n",
       "    </tr>\n",
       "  </thead>\n",
       "  <tbody>\n",
       "    <tr>\n",
       "      <th>state ❘ $n, L, S, J, M_L$ ⟩</th>\n",
       "      <td>❘ 68 67 1 67 67 ⟩</td>\n",
       "    </tr>\n",
       "    <tr>\n",
       "      <th>energy (GHz)</th>\n",
       "      <td>-711.374</td>\n",
       "    </tr>\n",
       "    <tr>\n",
       "      <th>radiative lifetime (ms)</th>\n",
       "      <td>133.817</td>\n",
       "    </tr>\n",
       "    <tr>\n",
       "      <th>number of allowed transitions</th>\n",
       "      <td>2</td>\n",
       "    </tr>\n",
       "  </tbody>\n",
       "</table>\n",
       "</div>"
      ],
      "text/plain": [
       "                                           value\n",
       "state ❘ $n, L, S, J, M_L$ ⟩    ❘ 68 67 1 67 67 ⟩\n",
       "energy (GHz)                            -711.374\n",
       "radiative lifetime (ms)                  133.817\n",
       "number of allowed transitions                  2"
      ]
     },
     "execution_count": 2,
     "metadata": {},
     "output_type": "execute_result"
    }
   ],
   "source": [
    "state = State(n=68, L=67, S=1, M=67)\n",
    "\n",
    "lifetime, allowed = radiative_lifetime_all(state, units='ms')\n",
    "d = {'value' : pd.Series([   \n",
    "        state, \n",
    "        energy(state, units='Ghz'),\n",
    "        lifetime,\n",
    "        len(allowed)\n",
    "    ], index=[\n",
    "        'state \\u2758 $n, L, S, J, M_L$ \\u27E9', \n",
    "        'energy (GHz)',\n",
    "        'radiative lifetime (ms)',\n",
    "        'number of allowed transitions'\n",
    "    ])}\n",
    "\n",
    "pd.DataFrame(d)"
   ]
  },
  {
   "cell_type": "code",
   "execution_count": 3,
   "metadata": {},
   "outputs": [
    {
     "data": {
      "text/html": [
       "<div>\n",
       "<style scoped>\n",
       "    .dataframe tbody tr th:only-of-type {\n",
       "        vertical-align: middle;\n",
       "    }\n",
       "\n",
       "    .dataframe tbody tr th {\n",
       "        vertical-align: top;\n",
       "    }\n",
       "\n",
       "    .dataframe thead th {\n",
       "        text-align: right;\n",
       "    }\n",
       "</style>\n",
       "<table border=\"1\" class=\"dataframe\">\n",
       "  <thead>\n",
       "    <tr style=\"text-align: right;\">\n",
       "      <th></th>\n",
       "      <th>value</th>\n",
       "    </tr>\n",
       "  </thead>\n",
       "  <tbody>\n",
       "    <tr>\n",
       "      <th>state 1 ❘ $n, L, S, J, M_L$ ⟩</th>\n",
       "      <td>❘ 68 67 1 67 67 ⟩</td>\n",
       "    </tr>\n",
       "    <tr>\n",
       "      <th>state 2 ❘ $n, L, S, J, M_L$ ⟩</th>\n",
       "      <td>❘ 69 68 1 68 68 ⟩</td>\n",
       "    </tr>\n",
       "    <tr>\n",
       "      <th>transition energy (GHz)</th>\n",
       "      <td>20.4701</td>\n",
       "    </tr>\n",
       "    <tr>\n",
       "      <th>transition dipole moment (D)</th>\n",
       "      <td>8340.59</td>\n",
       "    </tr>\n",
       "    <tr>\n",
       "      <th>radiative lifetime (ms)</th>\n",
       "      <td>143.981</td>\n",
       "    </tr>\n",
       "  </tbody>\n",
       "</table>\n",
       "</div>"
      ],
      "text/plain": [
       "                                           value\n",
       "state 1 ❘ $n, L, S, J, M_L$ ⟩  ❘ 68 67 1 67 67 ⟩\n",
       "state 2 ❘ $n, L, S, J, M_L$ ⟩  ❘ 69 68 1 68 68 ⟩\n",
       "transition energy (GHz)                  20.4701\n",
       "transition dipole moment (D)             8340.59\n",
       "radiative lifetime (ms)                  143.981"
      ]
     },
     "execution_count": 3,
     "metadata": {},
     "output_type": "execute_result"
    }
   ],
   "source": [
    "state_1 = State(n=68, L=67, S=1, M=67, basis_type='ML')\n",
    "state_2 = State(n=69, L=68, S=1, M=68, basis_type='ML')\n",
    "\n",
    "d = {'value' : pd.Series([\n",
    "        state_1,    \n",
    "        state_2, \n",
    "        transition_energy(state_1, state_2, units='ghz'),\n",
    "        transition_dipole_moment(state_1, state_2, units='debye'),\n",
    "        radiative_lifetime(state_1, state_2, units='ms')\n",
    "    ], index=[\n",
    "        'state 1 \\u2758 $n, L, S, J, M_L$ \\u27E9', \n",
    "        'state 2 \\u2758 $n, L, S, J, M_L$ \\u27E9', \n",
    "        'transition energy (GHz)',\n",
    "        'transition dipole moment (D)',\n",
    "        'radiative lifetime (ms)'\n",
    "    ])}\n",
    "\n",
    "pd.DataFrame(d)"
   ]
  },
  {
   "cell_type": "code",
   "execution_count": 4,
   "metadata": {
    "collapsed": true
   },
   "outputs": [],
   "source": [
    "%load_ext version_information"
   ]
  },
  {
   "cell_type": "code",
   "execution_count": 6,
   "metadata": {},
   "outputs": [
    {
     "data": {
      "application/json": {
       "Software versions": [
        {
         "module": "Python",
         "version": "3.6.1 64bit [GCC 4.2.1 Compatible Apple LLVM 6.0 (clang-600.0.57)]"
        },
        {
         "module": "IPython",
         "version": "5.3.0"
        },
        {
         "module": "OS",
         "version": "Darwin 17.4.0 x86_64 i386 64bit"
        },
        {
         "module": "scipy",
         "version": "1.0.0"
        },
        {
         "module": "numpy",
         "version": "1.14.3"
        },
        {
         "module": "sympy",
         "version": "1.0"
        },
        {
         "module": "numba",
         "version": "0.35.0"
        },
        {
         "module": "matplotlib",
         "version": "2.0.2"
        },
        {
         "module": "attr",
         "version": "17.4.0"
        },
        {
         "module": "tqdm",
         "version": "4.15.0"
        },
        {
         "module": "version_information",
         "version": "1.0.3"
        }
       ]
      },
      "text/html": [
       "<table><tr><th>Software</th><th>Version</th></tr><tr><td>Python</td><td>3.6.1 64bit [GCC 4.2.1 Compatible Apple LLVM 6.0 (clang-600.0.57)]</td></tr><tr><td>IPython</td><td>5.3.0</td></tr><tr><td>OS</td><td>Darwin 17.4.0 x86_64 i386 64bit</td></tr><tr><td>scipy</td><td>1.0.0</td></tr><tr><td>numpy</td><td>1.14.3</td></tr><tr><td>sympy</td><td>1.0</td></tr><tr><td>numba</td><td>0.35.0</td></tr><tr><td>matplotlib</td><td>2.0.2</td></tr><tr><td>attr</td><td>17.4.0</td></tr><tr><td>tqdm</td><td>4.15.0</td></tr><tr><td>version_information</td><td>1.0.3</td></tr><tr><td colspan='2'>Thu Jul 05 14:35:52 2018 BST</td></tr></table>"
      ],
      "text/latex": [
       "\\begin{tabular}{|l|l|}\\hline\n",
       "{\\bf Software} & {\\bf Version} \\\\ \\hline\\hline\n",
       "Python & 3.6.1 64bit [GCC 4.2.1 Compatible Apple LLVM 6.0 (clang-600.0.57)] \\\\ \\hline\n",
       "IPython & 5.3.0 \\\\ \\hline\n",
       "OS & Darwin 17.4.0 x86\\_64 i386 64bit \\\\ \\hline\n",
       "scipy & 1.0.0 \\\\ \\hline\n",
       "numpy & 1.14.3 \\\\ \\hline\n",
       "sympy & 1.0 \\\\ \\hline\n",
       "numba & 0.35.0 \\\\ \\hline\n",
       "matplotlib & 2.0.2 \\\\ \\hline\n",
       "attr & 17.4.0 \\\\ \\hline\n",
       "tqdm & 4.15.0 \\\\ \\hline\n",
       "version_information & 1.0.3 \\\\ \\hline\n",
       "\\hline \\multicolumn{2}{|l|}{Thu Jul 05 14:35:52 2018 BST} \\\\ \\hline\n",
       "\\end{tabular}\n"
      ],
      "text/plain": [
       "Software versions\n",
       "Python 3.6.1 64bit [GCC 4.2.1 Compatible Apple LLVM 6.0 (clang-600.0.57)]\n",
       "IPython 5.3.0\n",
       "OS Darwin 17.4.0 x86_64 i386 64bit\n",
       "scipy 1.0.0\n",
       "numpy 1.14.3\n",
       "sympy 1.0\n",
       "numba 0.35.0\n",
       "matplotlib 2.0.2\n",
       "attr 17.4.0\n",
       "tqdm 4.15.0\n",
       "version_information 1.0.3\n",
       "Thu Jul 05 14:35:52 2018 BST"
      ]
     },
     "execution_count": 6,
     "metadata": {},
     "output_type": "execute_result"
    }
   ],
   "source": [
    "%version_information scipy, numpy, sympy, numba, matplotlib, attr, tqdm ,version_information"
   ]
  },
  {
   "cell_type": "code",
   "execution_count": null,
   "metadata": {},
   "outputs": [],
   "source": []
  }
 ],
 "metadata": {
  "kernelspec": {
   "display_name": "Python 3",
   "language": "python",
   "name": "python3"
  },
  "language_info": {
   "codemirror_mode": {
    "name": "ipython",
    "version": 3
   },
   "file_extension": ".py",
   "mimetype": "text/x-python",
   "name": "python",
   "nbconvert_exporter": "python",
   "pygments_lexer": "ipython3",
   "version": "3.6.1"
  }
 },
 "nbformat": 4,
 "nbformat_minor": 2
}
